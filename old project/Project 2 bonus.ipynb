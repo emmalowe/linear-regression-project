{
 "cells": [
  {
   "cell_type": "markdown",
   "metadata": {},
   "source": [
    "# Bonus material\n",
    "\n",
    "Added Thursday afternoon after lecture on pipelines and grid search.\n",
    "\n",
    "This is a re-work of Model 8.5 from notebook 'Project 2', and relies on the work in that notebook for deciding on features to select in the model."
   ]
  },
  {
   "cell_type": "code",
   "execution_count": 1,
   "metadata": {},
   "outputs": [],
   "source": [
    "# import libraries\n",
    "import pandas as pd\n",
    "import numpy as np\n",
    "from sklearn.linear_model import LinearRegression, Ridge, Lasso, ElasticNet, RidgeCV, LassoCV, ElasticNetCV\n",
    "import sklearn.metrics as metrics\n",
    "from sklearn.preprocessing import PolynomialFeatures, StandardScaler\n",
    "from sklearn.model_selection import train_test_split, KFold, cross_val_score, GridSearchCV\n",
    "from sklearn.pipeline import Pipeline\n",
    "import matplotlib.pyplot as plt\n",
    "import seaborn as sns\n",
    "\n",
    "%matplotlib inline"
   ]
  },
  {
   "cell_type": "code",
   "execution_count": 2,
   "metadata": {},
   "outputs": [],
   "source": [
    "# read in cleaned data\n",
    "housing = pd.read_csv('Data/train_clean.csv')\n",
    "test = pd.read_csv('Data/test_clean.csv')"
   ]
  },
  {
   "cell_type": "code",
   "execution_count": 3,
   "metadata": {},
   "outputs": [],
   "source": [
    "# set up class that does required feature selection and engineering on given DataFrame \n",
    "\n",
    "class FeatureGenerator(object):\n",
    "    \n",
    "    def __init__(self):\n",
    "        # list of features with high correlation to sale price\n",
    "        self.include_list = ['Overall Qual','Year Built','Year Remod/Add','Mas Vnr Area','Exter Qual','Bsmt Qual',\n",
    "                            'Bsmt Exposure','BsmtFin SF 1','Total Bsmt SF','Heating QC','1st Flr SF','Gr Liv Area',\n",
    "                            'Full Bath','Kitchen Qual','TotRms AbvGrd','Fireplaces','Fireplace Qu','Garage Finish',\n",
    "                            'Garage Cars','Garage Area']\n",
    "        \n",
    "        # list of features to remove due to co-linearity\n",
    "        self.remove_list = ['Exter Qual','1st Flr SF','TotRms AbvGrd','Fireplaces','Garage Cars'] \n",
    "        \n",
    "    # required method so that class can be used in GridSearch\n",
    "    def get_params(self, deep=True):\n",
    "        return {}\n",
    "    \n",
    "    # required method so that class can be used in GridSearch\n",
    "    def fit(self, X, y):\n",
    "        return self   \n",
    "    \n",
    "    # function to be used within transform to add flags for specific columns\n",
    "    def add_flags(self, features_df, full_df):\n",
    "    \n",
    "        flag_func = (lambda x: 1 if (x['Condition 1']=='PosA') or (x['Condition 1']=='PosB') or (x['Condition 2']=='PosA') or (x['Condition 2']=='PosB') else 0)\n",
    "        \n",
    "        # add flags for MS Zone\n",
    "        for zone in housing['MS Zoning'].unique():\n",
    "            features_df[zone] = full_df['MS Zoning'].map(lambda x: 1 if x==zone else 0)\n",
    "\n",
    "        # add flags for Neighborhood\n",
    "        for neighborhood in housing['Neighborhood'].unique():\n",
    "            features_df[neighborhood] = full_df['Neighborhood'].map(lambda x: 1 if x==neighborhood else 0)\n",
    "\n",
    "        # add flag for proximity to positive off-site feature\n",
    "        features_df['Off-site flag'] = full_df.apply(flag_func, axis=1)\n",
    "        \n",
    "        return features_df\n",
    "        \n",
    "    def transform(self, X):         \n",
    "        \n",
    "        # remove features\n",
    "        new_df = X[self.include_list].copy()\n",
    "        new_df.drop(columns=self.remove_list, inplace=True)\n",
    "\n",
    "        # add features\n",
    "        self.add_flags(new_df, X)\n",
    "        new_df['Exter Qual + Gr Liv Area'] = X['Exter Qual']*X['Gr Liv Area']\n",
    "        new_df['Bsmt Qual + Gr Liv Area'] = X['Bsmt Qual']*X['Gr Liv Area']\n",
    "        new_df['Kitchen Qual + Gr Liv Area'] = X['Kitchen Qual']*X['Gr Liv Area']\n",
    "\n",
    "        return new_df"
   ]
  },
  {
   "cell_type": "code",
   "execution_count": 4,
   "metadata": {},
   "outputs": [],
   "source": [
    "# split housing into train and test sets\n",
    "X_train, X_test, y_train, y_test = train_test_split(housing.drop(columns='SalePrice', axis=1), housing['SalePrice'])"
   ]
  },
  {
   "cell_type": "code",
   "execution_count": 5,
   "metadata": {},
   "outputs": [],
   "source": [
    "# set up pipeline\n",
    "pipe = Pipeline([\n",
    "    ('fg', FeatureGenerator()),\n",
    "    ('ss', StandardScaler()),\n",
    "    ('lasso', Lasso()),\n",
    "])"
   ]
  },
  {
   "cell_type": "code",
   "execution_count": 18,
   "metadata": {},
   "outputs": [
    {
     "name": "stdout",
     "output_type": "stream",
     "text": [
      "33563.686851991355\n",
      "{'lasso__alpha': 800.0}\n"
     ]
    }
   ],
   "source": [
    "# GridSearch for optimal alpha\n",
    "# Re-run this cell, narrowing down on alpha each time\n",
    "\n",
    "lasso_params = {\n",
    "    'lasso__alpha':np.linspace(800,900,50)\n",
    "}\n",
    "\n",
    "# WARNING - this takes a long time\n",
    "# when using pipe within GridSearch, all transformations will be run everytime\n",
    "# need to look for a way around this, as output from fg,ss could be saved as only lasso needs iteration\n",
    "## try using cached transformers: http://scikit-learn.org/stable/modules/pipeline.html\n",
    "gs = GridSearchCV(pipe, param_grid=lasso_params, scoring='neg_mean_squared_error', cv=10)\n",
    "gs.fit(X_train, y_train)\n",
    "\n",
    "# print best alpha and best RMSE\n",
    "print((-gs.best_score_)**0.5)\n",
    "print(gs.best_params_)"
   ]
  },
  {
   "cell_type": "code",
   "execution_count": 19,
   "metadata": {},
   "outputs": [
    {
     "name": "stdout",
     "output_type": "stream",
     "text": [
      "max:  54555.97759485246\n",
      "min:  23822.11605767968\n"
     ]
    },
    {
     "name": "stderr",
     "output_type": "stream",
     "text": [
      "/anaconda3/envs/dsi/lib/python3.6/site-packages/sklearn/model_selection/_search.py:761: DeprecationWarning: The grid_scores_ attribute was deprecated in version 0.18 in favor of the more elaborate cv_results_ attribute. The grid_scores_ attribute will not be available from 0.20\n",
      "  DeprecationWarning)\n"
     ]
    }
   ],
   "source": [
    "# look at range of RMSE for these parameters\n",
    "scores = pd.DataFrame(gs.grid_scores_)\n",
    "best_alpha_CV = scores[scores['parameters']==gs.best_params_]['cv_validation_scores']\n",
    "\n",
    "print('max: ',(-np.min(list(best_alpha_CV.values)))**0.5)\n",
    "print('min: ',(-np.max(list(best_alpha_CV.values)))**0.5)"
   ]
  },
  {
   "cell_type": "code",
   "execution_count": 20,
   "metadata": {},
   "outputs": [
    {
     "data": {
      "text/plain": [
       "27425.14112604708"
      ]
     },
     "execution_count": 20,
     "metadata": {},
     "output_type": "execute_result"
    }
   ],
   "source": [
    "# hold-out set RMSE\n",
    "(-gs.score(X_test, y_test))**0.5"
   ]
  },
  {
   "cell_type": "code",
   "execution_count": 28,
   "metadata": {},
   "outputs": [],
   "source": [
    "# run model on real test set and save results\n",
    "model_predict = gs.predict(test)\n",
    "\n",
    "# # fit and save model\n",
    "model_predict_df = pd.DataFrame(model_predict, columns=['SalePrice'], index=test['Id'].astype(int))\n",
    "model_predict_df.to_csv('./Data/model_last_submission.csv')"
   ]
  },
  {
   "cell_type": "code",
   "execution_count": null,
   "metadata": {},
   "outputs": [],
   "source": [
    "# score: 40156 \n",
    "# Note: this was only fitted on training data, unlike model 8.5"
   ]
  }
 ],
 "metadata": {
  "kernelspec": {
   "display_name": "Python [conda env:dsi]",
   "language": "python",
   "name": "conda-env-dsi-py"
  },
  "language_info": {
   "codemirror_mode": {
    "name": "ipython",
    "version": 3
   },
   "file_extension": ".py",
   "mimetype": "text/x-python",
   "name": "python",
   "nbconvert_exporter": "python",
   "pygments_lexer": "ipython3",
   "version": "3.6.5"
  }
 },
 "nbformat": 4,
 "nbformat_minor": 2
}
