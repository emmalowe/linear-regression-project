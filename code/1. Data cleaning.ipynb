{
 "cells": [
  {
   "cell_type": "markdown",
   "metadata": {},
   "source": [
    "# Linear regression project - predicting the sale price of homes"
   ]
  },
  {
   "cell_type": "markdown",
   "metadata": {},
   "source": [
    "# Data cleaning"
   ]
  },
  {
   "cell_type": "code",
   "execution_count": 1,
   "metadata": {},
   "outputs": [],
   "source": [
    "import pandas as pd\n",
    "import numpy as np\n",
    "import seaborn as sns\n",
    "import matplotlib.pyplot as plt\n",
    "\n",
    "%matplotlib inline"
   ]
  },
  {
   "cell_type": "code",
   "execution_count": 2,
   "metadata": {},
   "outputs": [],
   "source": [
    "# read in training data\n",
    "housing_train = pd.read_csv('../data/raw/train.csv', index_col='Id')"
   ]
  },
  {
   "cell_type": "code",
   "execution_count": 3,
   "metadata": {},
   "outputs": [],
   "source": [
    "# read in test data\n",
    "housing_test = pd.read_csv('../data/raw/test.csv', index_col='Id')"
   ]
  },
  {
   "cell_type": "markdown",
   "metadata": {},
   "source": [
    "## 1. Data structure"
   ]
  },
  {
   "cell_type": "code",
   "execution_count": 4,
   "metadata": {},
   "outputs": [
    {
     "data": {
      "text/plain": [
       "(2051, 80)"
      ]
     },
     "execution_count": 4,
     "metadata": {},
     "output_type": "execute_result"
    }
   ],
   "source": [
    "housing_train.shape"
   ]
  },
  {
   "cell_type": "code",
   "execution_count": 5,
   "metadata": {},
   "outputs": [
    {
     "data": {
      "text/plain": [
       "Index(['PID', 'MS SubClass', 'MS Zoning', 'Lot Frontage', 'Lot Area', 'Street',\n",
       "       'Alley', 'Lot Shape', 'Land Contour', 'Utilities', 'Lot Config',\n",
       "       'Land Slope', 'Neighborhood', 'Condition 1', 'Condition 2', 'Bldg Type',\n",
       "       'House Style', 'Overall Qual', 'Overall Cond', 'Year Built',\n",
       "       'Year Remod/Add', 'Roof Style', 'Roof Matl', 'Exterior 1st',\n",
       "       'Exterior 2nd', 'Mas Vnr Type', 'Mas Vnr Area', 'Exter Qual',\n",
       "       'Exter Cond', 'Foundation', 'Bsmt Qual', 'Bsmt Cond', 'Bsmt Exposure',\n",
       "       'BsmtFin Type 1', 'BsmtFin SF 1', 'BsmtFin Type 2', 'BsmtFin SF 2',\n",
       "       'Bsmt Unf SF', 'Total Bsmt SF', 'Heating', 'Heating QC', 'Central Air',\n",
       "       'Electrical', '1st Flr SF', '2nd Flr SF', 'Low Qual Fin SF',\n",
       "       'Gr Liv Area', 'Bsmt Full Bath', 'Bsmt Half Bath', 'Full Bath',\n",
       "       'Half Bath', 'Bedroom AbvGr', 'Kitchen AbvGr', 'Kitchen Qual',\n",
       "       'TotRms AbvGrd', 'Functional', 'Fireplaces', 'Fireplace Qu',\n",
       "       'Garage Type', 'Garage Yr Blt', 'Garage Finish', 'Garage Cars',\n",
       "       'Garage Area', 'Garage Qual', 'Garage Cond', 'Paved Drive',\n",
       "       'Wood Deck SF', 'Open Porch SF', 'Enclosed Porch', '3Ssn Porch',\n",
       "       'Screen Porch', 'Pool Area', 'Pool QC', 'Fence', 'Misc Feature',\n",
       "       'Misc Val', 'Mo Sold', 'Yr Sold', 'Sale Type', 'SalePrice'],\n",
       "      dtype='object')"
      ]
     },
     "execution_count": 5,
     "metadata": {},
     "output_type": "execute_result"
    }
   ],
   "source": [
    "housing_train.columns"
   ]
  },
  {
   "cell_type": "code",
   "execution_count": 6,
   "metadata": {},
   "outputs": [],
   "source": [
    "## for column definitions see: https://www.kaggle.com/c/dsi-us-4-project-2-regression-challenge/data "
   ]
  },
  {
   "cell_type": "code",
   "execution_count": 7,
   "metadata": {},
   "outputs": [
    {
     "data": {
      "text/plain": [
       "(879, 79)"
      ]
     },
     "execution_count": 7,
     "metadata": {},
     "output_type": "execute_result"
    }
   ],
   "source": [
    "housing_test.shape"
   ]
  },
  {
   "cell_type": "code",
   "execution_count": 8,
   "metadata": {},
   "outputs": [
    {
     "name": "stdout",
     "output_type": "stream",
     "text": [
      "Features in training set but not in test set: {'SalePrice'}\n",
      "Features in test set but not in training set: set()\n"
     ]
    }
   ],
   "source": [
    "# check train and test sets have the same features\n",
    "train_columns = set(housing_train.columns)\n",
    "test_columns = set(housing_test.columns)\n",
    "\n",
    "print('Features in training set but not in test set:', train_columns.difference(test_columns))\n",
    "print('Features in test set but not in training set:', test_columns.difference(train_columns))"
   ]
  },
  {
   "cell_type": "code",
   "execution_count": 9,
   "metadata": {},
   "outputs": [],
   "source": [
    "## the features of both train and test sets are the same\n",
    "## but the training set also has the target variable, as expected\n",
    "## there are 79 features altogether"
   ]
  },
  {
   "cell_type": "markdown",
   "metadata": {},
   "source": [
    "## 2. Data completeness"
   ]
  },
  {
   "cell_type": "code",
   "execution_count": 10,
   "metadata": {},
   "outputs": [
    {
     "data": {
      "text/plain": [
       "Pool QC           99.556314\n",
       "Misc Feature      96.382253\n",
       "Alley             93.242321\n",
       "Fence             80.477816\n",
       "Fireplace Qu      48.532423\n",
       "Lot Frontage      16.723549\n",
       "Garage Yr Blt      5.426621\n",
       "Garage Cond        5.426621\n",
       "Garage Qual        5.426621\n",
       "Garage Finish      5.426621\n",
       "Garage Type        5.358362\n",
       "Bsmt Exposure      2.832765\n",
       "BsmtFin Type 2     2.764505\n",
       "Bsmt Cond          2.730375\n",
       "Bsmt Qual          2.730375\n",
       "BsmtFin Type 1     2.730375\n",
       "Mas Vnr Type       0.784983\n",
       "Mas Vnr Area       0.784983\n",
       "Bsmt Half Bath     0.068259\n",
       "Bsmt Full Bath     0.068259\n",
       "Garage Cars        0.034130\n",
       "BsmtFin SF 2       0.034130\n",
       "BsmtFin SF 1       0.034130\n",
       "Bsmt Unf SF        0.034130\n",
       "Total Bsmt SF      0.034130\n",
       "Garage Area        0.034130\n",
       "Electrical         0.034130\n",
       "dtype: float64"
      ]
     },
     "execution_count": 10,
     "metadata": {},
     "output_type": "execute_result"
    }
   ],
   "source": [
    "# look at columns with missing data in combined train and test set\n",
    "housing_full = pd.concat([housing_train.drop(columns='SalePrice'), housing_test], axis=0)\n",
    "housing_full['train'] = [idx in list(housing_train.index) for idx in housing_full.index] # label of train/text data\n",
    "\n",
    "incomplete_columns = housing_full.isnull().sum()[housing_full.isnull().sum() !=0]\n",
    "100*(incomplete_columns/housing_full.shape[0]).sort_values(ascending=False)"
   ]
  },
  {
   "cell_type": "code",
   "execution_count": 11,
   "metadata": {},
   "outputs": [
    {
     "data": {
      "text/plain": [
       "1.0"
      ]
     },
     "execution_count": 11,
     "metadata": {},
     "output_type": "execute_result"
    }
   ],
   "source": [
    "# check percentage of rows with missing data\n",
    "1 - housing_full.dropna().shape[0]/housing_full.shape[0]"
   ]
  },
  {
   "cell_type": "markdown",
   "metadata": {},
   "source": [
    "### Columns with legitimate 'NA' or 'None' category"
   ]
  },
  {
   "cell_type": "code",
   "execution_count": 12,
   "metadata": {},
   "outputs": [],
   "source": [
    "## many categorical features have a legitimate 'NA' or 'None' category which may be registering as a 'nan' entry"
   ]
  },
  {
   "cell_type": "code",
   "execution_count": 13,
   "metadata": {},
   "outputs": [],
   "source": [
    "# check categories with legitimate 'NA' values (see columns definitions) with cross-referencing"
   ]
  },
  {
   "cell_type": "markdown",
   "metadata": {},
   "source": [
    "#### Useful functions"
   ]
  },
  {
   "cell_type": "code",
   "execution_count": 14,
   "metadata": {},
   "outputs": [],
   "source": [
    "def get_inconsistent_rows(df_full, feature_subset):\n",
    "    \n",
    "    ''' returns rows of dataframe where there are inconsistent nan/zero values for a set a related features'''\n",
    "    \n",
    "    # get all rows with missing data\n",
    "    incomplete_feature_index = df_full[feature_subset].isnull().any(axis=1)\n",
    "    incomplete_feature_data = df_full.loc[incomplete_feature_index, feature_subset]\n",
    "\n",
    "    # self-consistent rows are where all values are nan or 0 \n",
    "\n",
    "    # just look at self-contradictory rows\n",
    "    incomplete_feature_data.dropna(how = 'all') # drop rows that are all nan\n",
    "    return incomplete_feature_data[incomplete_feature_data.sum(axis=1)!=0] # filter on rows that don't sum to zero"
   ]
  },
  {
   "cell_type": "code",
   "execution_count": 15,
   "metadata": {},
   "outputs": [],
   "source": [
    "def replace_nans(df_train, df_test, label_columns, numeric_columns):\n",
    "    \n",
    "    df_train[label_columns] = df_train[label_columns].fillna('NA')\n",
    "    df_train[numeric_columns] = df_train[numeric_columns].fillna(0)\n",
    "\n",
    "    df_test[label_columns] = df_test[label_columns].fillna('NA')\n",
    "    df_test[numeric_columns] = df_test[numeric_columns].fillna(0)\n",
    "    \n",
    "    return df_train, df_test    "
   ]
  },
  {
   "cell_type": "markdown",
   "metadata": {},
   "source": [
    "#### Basement variables"
   ]
  },
  {
   "cell_type": "code",
   "execution_count": 16,
   "metadata": {},
   "outputs": [],
   "source": [
    "# BsmtQual, BsmtCond, BsmtExposure, BsmtFinType1, BsmtFinType2 all have legitimate NA values\n",
    "# BsmtHalfBath, BsmtFullBath, BsmtFinSF1, BsmtFinSF2, BsmtUnfSF, TotalBsmtSF are related numerical columns\n",
    "#    that have missing values\n",
    "# these can all be checked against each other"
   ]
  },
  {
   "cell_type": "code",
   "execution_count": 17,
   "metadata": {},
   "outputs": [
    {
     "data": {
      "text/html": [
       "<div>\n",
       "<style scoped>\n",
       "    .dataframe tbody tr th:only-of-type {\n",
       "        vertical-align: middle;\n",
       "    }\n",
       "\n",
       "    .dataframe tbody tr th {\n",
       "        vertical-align: top;\n",
       "    }\n",
       "\n",
       "    .dataframe thead th {\n",
       "        text-align: right;\n",
       "    }\n",
       "</style>\n",
       "<table border=\"1\" class=\"dataframe\">\n",
       "  <thead>\n",
       "    <tr style=\"text-align: right;\">\n",
       "      <th></th>\n",
       "      <th>Bsmt Qual</th>\n",
       "      <th>Bsmt Cond</th>\n",
       "      <th>Bsmt Exposure</th>\n",
       "      <th>BsmtFin Type 1</th>\n",
       "      <th>BsmtFin Type 2</th>\n",
       "      <th>Bsmt Half Bath</th>\n",
       "      <th>Bsmt Full Bath</th>\n",
       "      <th>BsmtFin SF 1</th>\n",
       "      <th>BsmtFin SF 2</th>\n",
       "      <th>Bsmt Unf SF</th>\n",
       "      <th>Total Bsmt SF</th>\n",
       "    </tr>\n",
       "    <tr>\n",
       "      <th>Id</th>\n",
       "      <th></th>\n",
       "      <th></th>\n",
       "      <th></th>\n",
       "      <th></th>\n",
       "      <th></th>\n",
       "      <th></th>\n",
       "      <th></th>\n",
       "      <th></th>\n",
       "      <th></th>\n",
       "      <th></th>\n",
       "      <th></th>\n",
       "    </tr>\n",
       "  </thead>\n",
       "  <tbody>\n",
       "    <tr>\n",
       "      <th>445</th>\n",
       "      <td>Gd</td>\n",
       "      <td>TA</td>\n",
       "      <td>No</td>\n",
       "      <td>GLQ</td>\n",
       "      <td>NaN</td>\n",
       "      <td>0.0</td>\n",
       "      <td>1.0</td>\n",
       "      <td>1124.0</td>\n",
       "      <td>479.0</td>\n",
       "      <td>1603.0</td>\n",
       "      <td>3206.0</td>\n",
       "    </tr>\n",
       "    <tr>\n",
       "      <th>1797</th>\n",
       "      <td>Gd</td>\n",
       "      <td>TA</td>\n",
       "      <td>NaN</td>\n",
       "      <td>Unf</td>\n",
       "      <td>Unf</td>\n",
       "      <td>0.0</td>\n",
       "      <td>0.0</td>\n",
       "      <td>0.0</td>\n",
       "      <td>0.0</td>\n",
       "      <td>725.0</td>\n",
       "      <td>725.0</td>\n",
       "    </tr>\n",
       "    <tr>\n",
       "      <th>67</th>\n",
       "      <td>Gd</td>\n",
       "      <td>TA</td>\n",
       "      <td>NaN</td>\n",
       "      <td>Unf</td>\n",
       "      <td>Unf</td>\n",
       "      <td>0.0</td>\n",
       "      <td>0.0</td>\n",
       "      <td>0.0</td>\n",
       "      <td>0.0</td>\n",
       "      <td>1595.0</td>\n",
       "      <td>1595.0</td>\n",
       "    </tr>\n",
       "    <tr>\n",
       "      <th>2780</th>\n",
       "      <td>Gd</td>\n",
       "      <td>TA</td>\n",
       "      <td>NaN</td>\n",
       "      <td>Unf</td>\n",
       "      <td>Unf</td>\n",
       "      <td>0.0</td>\n",
       "      <td>0.0</td>\n",
       "      <td>0.0</td>\n",
       "      <td>0.0</td>\n",
       "      <td>936.0</td>\n",
       "      <td>936.0</td>\n",
       "    </tr>\n",
       "  </tbody>\n",
       "</table>\n",
       "</div>"
      ],
      "text/plain": [
       "     Bsmt Qual Bsmt Cond Bsmt Exposure BsmtFin Type 1 BsmtFin Type 2  \\\n",
       "Id                                                                     \n",
       "445         Gd        TA            No            GLQ            NaN   \n",
       "1797        Gd        TA           NaN            Unf            Unf   \n",
       "67          Gd        TA           NaN            Unf            Unf   \n",
       "2780        Gd        TA           NaN            Unf            Unf   \n",
       "\n",
       "      Bsmt Half Bath  Bsmt Full Bath  BsmtFin SF 1  BsmtFin SF 2  Bsmt Unf SF  \\\n",
       "Id                                                                              \n",
       "445              0.0             1.0        1124.0         479.0       1603.0   \n",
       "1797             0.0             0.0           0.0           0.0        725.0   \n",
       "67               0.0             0.0           0.0           0.0       1595.0   \n",
       "2780             0.0             0.0           0.0           0.0        936.0   \n",
       "\n",
       "      Total Bsmt SF  \n",
       "Id                   \n",
       "445          3206.0  \n",
       "1797          725.0  \n",
       "67           1595.0  \n",
       "2780          936.0  "
      ]
     },
     "execution_count": 17,
     "metadata": {},
     "output_type": "execute_result"
    }
   ],
   "source": [
    "label_bsmt_columns = ['Bsmt Qual', 'Bsmt Cond', 'Bsmt Exposure', 'BsmtFin Type 1', 'BsmtFin Type 2']\n",
    "numeric_bsmt_columns = ['Bsmt Half Bath', 'Bsmt Full Bath', 'BsmtFin SF 1', 'BsmtFin SF 2', 'Bsmt Unf SF', 'Total Bsmt SF']\n",
    "\n",
    "bsmt_columns = label_bsmt_columns + numeric_bsmt_columns\n",
    "\n",
    "get_inconsistent_rows(housing_full, bsmt_columns)"
   ]
  },
  {
   "cell_type": "code",
   "execution_count": 18,
   "metadata": {
    "scrolled": false
   },
   "outputs": [
    {
     "data": {
      "text/plain": [
       "Id\n",
       "445     True\n",
       "1797    True\n",
       "67      True\n",
       "2780    True\n",
       "Name: train, dtype: bool"
      ]
     },
     "execution_count": 18,
     "metadata": {},
     "output_type": "execute_result"
    }
   ],
   "source": [
    "# check location of data\n",
    "housing_full.loc[[445,1797,67,2780],'train']"
   ]
  },
  {
   "cell_type": "code",
   "execution_count": 19,
   "metadata": {},
   "outputs": [],
   "source": [
    "# Homes with ids 1797,67,2780 assumed to have no outside exposure - impute No for Bsmt Exposure\n",
    "# Home 445 has unfinished area - impute Unf for BsmtFin Type 2\n",
    "# All other missing data for these columns is self-consistent so can replace nans with NA or 0\n",
    "\n",
    "housing_train.loc[[1797,67,2780],'Bsmt Exposure'] = 'No'\n",
    "housing_train.loc[445,'BsmtFin Type 2'] = 'Unf'\n",
    "\n",
    "housing_train, housing_test = replace_nans(housing_train, housing_test, label_bsmt_columns, numeric_bsmt_columns)"
   ]
  },
  {
   "cell_type": "markdown",
   "metadata": {},
   "source": [
    "#### Garage variables"
   ]
  },
  {
   "cell_type": "code",
   "execution_count": 20,
   "metadata": {},
   "outputs": [],
   "source": [
    "# GarageType, GarageFinish, GarageQual, GarageCond all have legitimate NA values\n",
    "# GarageArea, GarageCars, GarageYrBlt are related numerical columns that have missing values\n",
    "# these can all be checked against each other"
   ]
  },
  {
   "cell_type": "code",
   "execution_count": 21,
   "metadata": {},
   "outputs": [
    {
     "data": {
      "text/html": [
       "<div>\n",
       "<style scoped>\n",
       "    .dataframe tbody tr th:only-of-type {\n",
       "        vertical-align: middle;\n",
       "    }\n",
       "\n",
       "    .dataframe tbody tr th {\n",
       "        vertical-align: top;\n",
       "    }\n",
       "\n",
       "    .dataframe thead th {\n",
       "        text-align: right;\n",
       "    }\n",
       "</style>\n",
       "<table border=\"1\" class=\"dataframe\">\n",
       "  <thead>\n",
       "    <tr style=\"text-align: right;\">\n",
       "      <th></th>\n",
       "      <th>Garage Type</th>\n",
       "      <th>Garage Finish</th>\n",
       "      <th>Garage Qual</th>\n",
       "      <th>Garage Cond</th>\n",
       "      <th>Garage Area</th>\n",
       "      <th>Garage Cars</th>\n",
       "      <th>Garage Yr Blt</th>\n",
       "    </tr>\n",
       "    <tr>\n",
       "      <th>Id</th>\n",
       "      <th></th>\n",
       "      <th></th>\n",
       "      <th></th>\n",
       "      <th></th>\n",
       "      <th></th>\n",
       "      <th></th>\n",
       "      <th></th>\n",
       "    </tr>\n",
       "  </thead>\n",
       "  <tbody>\n",
       "    <tr>\n",
       "      <th>1357</th>\n",
       "      <td>Detchd</td>\n",
       "      <td>NaN</td>\n",
       "      <td>NaN</td>\n",
       "      <td>NaN</td>\n",
       "      <td>360.0</td>\n",
       "      <td>1.0</td>\n",
       "      <td>NaN</td>\n",
       "    </tr>\n",
       "  </tbody>\n",
       "</table>\n",
       "</div>"
      ],
      "text/plain": [
       "     Garage Type Garage Finish Garage Qual Garage Cond  Garage Area  \\\n",
       "Id                                                                    \n",
       "1357      Detchd           NaN         NaN         NaN        360.0   \n",
       "\n",
       "      Garage Cars  Garage Yr Blt  \n",
       "Id                                \n",
       "1357          1.0            NaN  "
      ]
     },
     "execution_count": 21,
     "metadata": {},
     "output_type": "execute_result"
    }
   ],
   "source": [
    "label_garage_columns = ['Garage Type', 'Garage Finish', 'Garage Qual', 'Garage Cond']\n",
    "numeric_garage_columns = ['Garage Area', 'Garage Cars', 'Garage Yr Blt']\n",
    "\n",
    "garage_columns = label_garage_columns + numeric_garage_columns\n",
    "\n",
    "get_inconsistent_rows(housing_full, garage_columns)"
   ]
  },
  {
   "cell_type": "code",
   "execution_count": 22,
   "metadata": {},
   "outputs": [
    {
     "data": {
      "text/plain": [
       "Id\n",
       "1357    False\n",
       "Name: train, dtype: bool"
      ]
     },
     "execution_count": 22,
     "metadata": {},
     "output_type": "execute_result"
    }
   ],
   "source": [
    "# check location of data\n",
    "housing_full.loc[[1357],'train']"
   ]
  },
  {
   "cell_type": "code",
   "execution_count": 23,
   "metadata": {
    "scrolled": true
   },
   "outputs": [],
   "source": [
    "# Fill NaNs in this row with reasonable values - most common for finish/qual/condition\n",
    "# Take common values from training set so not to build model on test data\n",
    "\n",
    "housing_test.loc[1357,'Garage Finish'] = housing_train['Garage Finish'].value_counts().index[0]\n",
    "housing_test.loc[1357,'Garage Qual'] = housing_train['Garage Qual'].value_counts().index[0]\n",
    "housing_test.loc[1357,'Garage Cond'] = housing_train['Garage Cond'].value_counts().index[0]"
   ]
  },
  {
   "cell_type": "code",
   "execution_count": 24,
   "metadata": {},
   "outputs": [],
   "source": [
    "# Fill garage yr blt with year house built, for all houses with no garage\n",
    "housing_train.loc[housing_train['Garage Yr Blt'].isnull(),'Garage Yr Blt'] = housing_train['Year Built']\n",
    "housing_test.loc[housing_test['Garage Yr Blt'].isnull(),'Garage Yr Blt'] = housing_test['Year Built']"
   ]
  },
  {
   "cell_type": "code",
   "execution_count": 25,
   "metadata": {},
   "outputs": [],
   "source": [
    "# All other missing data for these columns is self-consistent so can replace nans with NA or 0\n",
    "housing_train, housing_test = replace_nans(housing_train, housing_test, label_garage_columns, numeric_garage_columns)"
   ]
  },
  {
   "cell_type": "markdown",
   "metadata": {},
   "source": [
    "#### Pool variables"
   ]
  },
  {
   "cell_type": "code",
   "execution_count": 26,
   "metadata": {},
   "outputs": [
    {
     "data": {
      "text/html": [
       "<div>\n",
       "<style scoped>\n",
       "    .dataframe tbody tr th:only-of-type {\n",
       "        vertical-align: middle;\n",
       "    }\n",
       "\n",
       "    .dataframe tbody tr th {\n",
       "        vertical-align: top;\n",
       "    }\n",
       "\n",
       "    .dataframe thead th {\n",
       "        text-align: right;\n",
       "    }\n",
       "</style>\n",
       "<table border=\"1\" class=\"dataframe\">\n",
       "  <thead>\n",
       "    <tr style=\"text-align: right;\">\n",
       "      <th></th>\n",
       "      <th>Pool QC</th>\n",
       "      <th>Pool Area</th>\n",
       "    </tr>\n",
       "    <tr>\n",
       "      <th>Id</th>\n",
       "      <th></th>\n",
       "      <th></th>\n",
       "    </tr>\n",
       "  </thead>\n",
       "  <tbody>\n",
       "  </tbody>\n",
       "</table>\n",
       "</div>"
      ],
      "text/plain": [
       "Empty DataFrame\n",
       "Columns: [Pool QC, Pool Area]\n",
       "Index: []"
      ]
     },
     "execution_count": 26,
     "metadata": {},
     "output_type": "execute_result"
    }
   ],
   "source": [
    "# Pool QC can be checked against PoolArea\n",
    "get_inconsistent_rows(housing_full, ['Pool QC','Pool Area'])"
   ]
  },
  {
   "cell_type": "code",
   "execution_count": 27,
   "metadata": {},
   "outputs": [],
   "source": [
    "# All missing data for these columns is self-consistent so can replace nans with NA or 0\n",
    "housing_train, housing_test = replace_nans(housing_train, housing_test, ['Pool QC'], ['Pool Area'])"
   ]
  },
  {
   "cell_type": "markdown",
   "metadata": {},
   "source": [
    "#### Fireplace variables"
   ]
  },
  {
   "cell_type": "code",
   "execution_count": 28,
   "metadata": {},
   "outputs": [
    {
     "data": {
      "text/html": [
       "<div>\n",
       "<style scoped>\n",
       "    .dataframe tbody tr th:only-of-type {\n",
       "        vertical-align: middle;\n",
       "    }\n",
       "\n",
       "    .dataframe tbody tr th {\n",
       "        vertical-align: top;\n",
       "    }\n",
       "\n",
       "    .dataframe thead th {\n",
       "        text-align: right;\n",
       "    }\n",
       "</style>\n",
       "<table border=\"1\" class=\"dataframe\">\n",
       "  <thead>\n",
       "    <tr style=\"text-align: right;\">\n",
       "      <th></th>\n",
       "      <th>Fireplace Qu</th>\n",
       "      <th>Fireplaces</th>\n",
       "    </tr>\n",
       "    <tr>\n",
       "      <th>Id</th>\n",
       "      <th></th>\n",
       "      <th></th>\n",
       "    </tr>\n",
       "  </thead>\n",
       "  <tbody>\n",
       "  </tbody>\n",
       "</table>\n",
       "</div>"
      ],
      "text/plain": [
       "Empty DataFrame\n",
       "Columns: [Fireplace Qu, Fireplaces]\n",
       "Index: []"
      ]
     },
     "execution_count": 28,
     "metadata": {},
     "output_type": "execute_result"
    }
   ],
   "source": [
    "# Fireplace Qu can be checked against Fireplaces\n",
    "get_inconsistent_rows(housing_full, ['Fireplace Qu','Fireplaces'])"
   ]
  },
  {
   "cell_type": "code",
   "execution_count": 29,
   "metadata": {},
   "outputs": [],
   "source": [
    "# All missing data for these columns is self-consistent so can replace nans with NA or 0\n",
    "housing_train, housing_test = replace_nans(housing_train, housing_test,  ['Fireplace Qu'],['Fireplaces'])"
   ]
  },
  {
   "cell_type": "markdown",
   "metadata": {},
   "source": [
    "#### Misc Feature variables"
   ]
  },
  {
   "cell_type": "code",
   "execution_count": 30,
   "metadata": {},
   "outputs": [
    {
     "data": {
      "text/html": [
       "<div>\n",
       "<style scoped>\n",
       "    .dataframe tbody tr th:only-of-type {\n",
       "        vertical-align: middle;\n",
       "    }\n",
       "\n",
       "    .dataframe tbody tr th {\n",
       "        vertical-align: top;\n",
       "    }\n",
       "\n",
       "    .dataframe thead th {\n",
       "        text-align: right;\n",
       "    }\n",
       "</style>\n",
       "<table border=\"1\" class=\"dataframe\">\n",
       "  <thead>\n",
       "    <tr style=\"text-align: right;\">\n",
       "      <th></th>\n",
       "      <th>Misc Feature</th>\n",
       "      <th>Misc Val</th>\n",
       "    </tr>\n",
       "    <tr>\n",
       "      <th>Id</th>\n",
       "      <th></th>\n",
       "      <th></th>\n",
       "    </tr>\n",
       "  </thead>\n",
       "  <tbody>\n",
       "  </tbody>\n",
       "</table>\n",
       "</div>"
      ],
      "text/plain": [
       "Empty DataFrame\n",
       "Columns: [Misc Feature, Misc Val]\n",
       "Index: []"
      ]
     },
     "execution_count": 30,
     "metadata": {},
     "output_type": "execute_result"
    }
   ],
   "source": [
    "# Misc Feature can be checked against Misc Val\n",
    "get_inconsistent_rows(housing_full, ['Misc Feature','Misc Val'])"
   ]
  },
  {
   "cell_type": "code",
   "execution_count": 31,
   "metadata": {},
   "outputs": [],
   "source": [
    "# All missing data for these columns is self-consistent so can replace nans with NA or 0\n",
    "housing_train, housing_test = replace_nans(housing_train, housing_test, ['Misc Feature'],['Misc Val'])"
   ]
  },
  {
   "cell_type": "markdown",
   "metadata": {},
   "source": [
    "#### MasVnr variables"
   ]
  },
  {
   "cell_type": "code",
   "execution_count": 32,
   "metadata": {},
   "outputs": [
    {
     "data": {
      "text/html": [
       "<div>\n",
       "<style scoped>\n",
       "    .dataframe tbody tr th:only-of-type {\n",
       "        vertical-align: middle;\n",
       "    }\n",
       "\n",
       "    .dataframe tbody tr th {\n",
       "        vertical-align: top;\n",
       "    }\n",
       "\n",
       "    .dataframe thead th {\n",
       "        text-align: right;\n",
       "    }\n",
       "</style>\n",
       "<table border=\"1\" class=\"dataframe\">\n",
       "  <thead>\n",
       "    <tr style=\"text-align: right;\">\n",
       "      <th></th>\n",
       "      <th>Mas Vnr Type</th>\n",
       "      <th>Mas Vnr Area</th>\n",
       "    </tr>\n",
       "    <tr>\n",
       "      <th>Id</th>\n",
       "      <th></th>\n",
       "      <th></th>\n",
       "    </tr>\n",
       "  </thead>\n",
       "  <tbody>\n",
       "  </tbody>\n",
       "</table>\n",
       "</div>"
      ],
      "text/plain": [
       "Empty DataFrame\n",
       "Columns: [Mas Vnr Type, Mas Vnr Area]\n",
       "Index: []"
      ]
     },
     "execution_count": 32,
     "metadata": {},
     "output_type": "execute_result"
    }
   ],
   "source": [
    "# MasVnrType can be checked against MasVnrArea\n",
    "get_inconsistent_rows(housing_full, ['Mas Vnr Type','Mas Vnr Area'])"
   ]
  },
  {
   "cell_type": "code",
   "execution_count": 33,
   "metadata": {},
   "outputs": [],
   "source": [
    "# All missing data for these columns is self-consistent so can replace nans with NA or 0\n",
    "housing_train, housing_test = replace_nans(housing_train, housing_test, ['Mas Vnr Type'],['Mas Vnr Area'])"
   ]
  },
  {
   "cell_type": "markdown",
   "metadata": {},
   "source": [
    "#### Alley and Fence"
   ]
  },
  {
   "cell_type": "code",
   "execution_count": 34,
   "metadata": {},
   "outputs": [],
   "source": [
    "# no values to cross-reference against, so assume all should be 'NA'\n",
    "housing_train, housing_test = replace_nans(housing_train, housing_test, ['Alley'],[])\n",
    "housing_train, housing_test = replace_nans(housing_train, housing_test, ['Fence'],[])"
   ]
  },
  {
   "cell_type": "markdown",
   "metadata": {},
   "source": [
    "### Other columns with missing data"
   ]
  },
  {
   "cell_type": "markdown",
   "metadata": {},
   "source": [
    "#### Lot Frontage"
   ]
  },
  {
   "cell_type": "code",
   "execution_count": 35,
   "metadata": {},
   "outputs": [
    {
     "name": "stdout",
     "output_type": "stream",
     "text": [
      "['CulDSac' 'Inside' 'Corner' 'FR2' 'FR3']\n"
     ]
    },
    {
     "data": {
      "text/html": [
       "<div>\n",
       "<style scoped>\n",
       "    .dataframe tbody tr th:only-of-type {\n",
       "        vertical-align: middle;\n",
       "    }\n",
       "\n",
       "    .dataframe tbody tr th {\n",
       "        vertical-align: top;\n",
       "    }\n",
       "\n",
       "    .dataframe thead th {\n",
       "        text-align: right;\n",
       "    }\n",
       "</style>\n",
       "<table border=\"1\" class=\"dataframe\">\n",
       "  <thead>\n",
       "    <tr style=\"text-align: right;\">\n",
       "      <th></th>\n",
       "      <th>PID</th>\n",
       "      <th>MS SubClass</th>\n",
       "      <th>MS Zoning</th>\n",
       "      <th>Lot Frontage</th>\n",
       "      <th>Lot Area</th>\n",
       "      <th>Street</th>\n",
       "      <th>Alley</th>\n",
       "      <th>Lot Shape</th>\n",
       "      <th>Land Contour</th>\n",
       "      <th>Utilities</th>\n",
       "      <th>...</th>\n",
       "      <th>Screen Porch</th>\n",
       "      <th>Pool Area</th>\n",
       "      <th>Pool QC</th>\n",
       "      <th>Fence</th>\n",
       "      <th>Misc Feature</th>\n",
       "      <th>Misc Val</th>\n",
       "      <th>Mo Sold</th>\n",
       "      <th>Yr Sold</th>\n",
       "      <th>Sale Type</th>\n",
       "      <th>train</th>\n",
       "    </tr>\n",
       "    <tr>\n",
       "      <th>Id</th>\n",
       "      <th></th>\n",
       "      <th></th>\n",
       "      <th></th>\n",
       "      <th></th>\n",
       "      <th></th>\n",
       "      <th></th>\n",
       "      <th></th>\n",
       "      <th></th>\n",
       "      <th></th>\n",
       "      <th></th>\n",
       "      <th></th>\n",
       "      <th></th>\n",
       "      <th></th>\n",
       "      <th></th>\n",
       "      <th></th>\n",
       "      <th></th>\n",
       "      <th></th>\n",
       "      <th></th>\n",
       "      <th></th>\n",
       "      <th></th>\n",
       "      <th></th>\n",
       "    </tr>\n",
       "  </thead>\n",
       "  <tbody>\n",
       "  </tbody>\n",
       "</table>\n",
       "<p>0 rows × 80 columns</p>\n",
       "</div>"
      ],
      "text/plain": [
       "Empty DataFrame\n",
       "Columns: [PID, MS SubClass, MS Zoning, Lot Frontage, Lot Area, Street, Alley, Lot Shape, Land Contour, Utilities, Lot Config, Land Slope, Neighborhood, Condition 1, Condition 2, Bldg Type, House Style, Overall Qual, Overall Cond, Year Built, Year Remod/Add, Roof Style, Roof Matl, Exterior 1st, Exterior 2nd, Mas Vnr Type, Mas Vnr Area, Exter Qual, Exter Cond, Foundation, Bsmt Qual, Bsmt Cond, Bsmt Exposure, BsmtFin Type 1, BsmtFin SF 1, BsmtFin Type 2, BsmtFin SF 2, Bsmt Unf SF, Total Bsmt SF, Heating, Heating QC, Central Air, Electrical, 1st Flr SF, 2nd Flr SF, Low Qual Fin SF, Gr Liv Area, Bsmt Full Bath, Bsmt Half Bath, Full Bath, Half Bath, Bedroom AbvGr, Kitchen AbvGr, Kitchen Qual, TotRms AbvGrd, Functional, Fireplaces, Fireplace Qu, Garage Type, Garage Yr Blt, Garage Finish, Garage Cars, Garage Area, Garage Qual, Garage Cond, Paved Drive, Wood Deck SF, Open Porch SF, Enclosed Porch, 3Ssn Porch, Screen Porch, Pool Area, Pool QC, Fence, Misc Feature, Misc Val, Mo Sold, Yr Sold, Sale Type, train]\n",
       "Index: []\n",
       "\n",
       "[0 rows x 80 columns]"
      ]
     },
     "execution_count": 35,
     "metadata": {},
     "output_type": "execute_result"
    }
   ],
   "source": [
    "# look at Lot Frontage\n",
    "print(housing_full[housing_full['Lot Frontage'].isnull()]['Lot Config'].unique())\n",
    "housing_full[housing_full['Lot Frontage']==0]"
   ]
  },
  {
   "cell_type": "code",
   "execution_count": 36,
   "metadata": {},
   "outputs": [],
   "source": [
    "# no houses have a zero lot frontage\n",
    "# these are therefore missing entries, rather than zero entries - fill with train average for that lot config\n",
    "lt_mean = housing_train.groupby('Lot Config')['Lot Frontage'].mean()\n",
    "\n",
    "housing_train.loc[housing_train['Lot Frontage'].isnull(), 'Lot Frontage'] = [lt_mean[config] for config in housing_train.loc[housing_train['Lot Frontage'].isnull(), 'Lot Config']]\n",
    "housing_test.loc[housing_test['Lot Frontage'].isnull(), 'Lot Frontage'] = [lt_mean[config] for config in housing_test.loc[housing_test['Lot Frontage'].isnull(), 'Lot Config']]"
   ]
  },
  {
   "cell_type": "markdown",
   "metadata": {},
   "source": [
    "#### Electrical"
   ]
  },
  {
   "cell_type": "code",
   "execution_count": 37,
   "metadata": {},
   "outputs": [],
   "source": [
    "# no other relevant columns to look at\n",
    "# fill with most common value from training data\n",
    "electrical_mode = housing_train['Electrical'].value_counts().index[0]\n",
    "housing_train.loc[housing_train['Electrical'].isnull(), 'Electrical'] = electrical_mode\n",
    "housing_test.loc[housing_test['Electrical'].isnull(), 'Electrical'] = electrical_mode"
   ]
  },
  {
   "cell_type": "markdown",
   "metadata": {},
   "source": [
    "### Final check of completeness"
   ]
  },
  {
   "cell_type": "code",
   "execution_count": 38,
   "metadata": {},
   "outputs": [
    {
     "name": "stdout",
     "output_type": "stream",
     "text": [
      "Number of null values in training set: 0\n",
      "Number of null values in test set: 0\n"
     ]
    }
   ],
   "source": [
    "print('Number of null values in training set:', housing_train.isnull().sum().sum())\n",
    "print('Number of null values in test set:', housing_test.isnull().sum().sum())"
   ]
  },
  {
   "cell_type": "markdown",
   "metadata": {},
   "source": [
    "## 3. Data types"
   ]
  },
  {
   "cell_type": "markdown",
   "metadata": {},
   "source": [
    "### Categorical to numeric"
   ]
  },
  {
   "cell_type": "code",
   "execution_count": 39,
   "metadata": {},
   "outputs": [],
   "source": [
    "# create maps to transform categories that should be ordinal\n",
    "\n",
    "# Street\n",
    "map_street = {'Grvl':0, 'Pave':1}\n",
    "\n",
    "# Alley\n",
    "map_alley = {'NA':0, 'Grvl':1, 'Pave':2}\n",
    "\n",
    "# Lot shape\n",
    "map_shape = {'Reg':0, 'IR1':1, 'IR2':2, 'IR3':3}\n",
    "\n",
    "# Land contour\n",
    "map_contour = {'Lvl':3, 'Bnk':2, 'HLS':1, 'Low':0}\n",
    "\n",
    "# Utilities\n",
    "map_util = {'AllPub':4, 'NoSewr':3, 'NoSeWa':2, 'ELO':1}\n",
    "\n",
    "# Land slope\n",
    "map_slope = {'Gtl':1, 'Mod':2, 'Sev':3}\n",
    "\n",
    "# ExterQual, ExterCond, BsmtQual, BsmtCond, HeatingQC, KitchenQual, \n",
    "# FireplaceQu, GarageQual, GarageCond, PoolQc\n",
    "map_qual = {'Ex':5,'Gd':4,'TA':3,'Fa':2,'Po':1,'NA':0}\n",
    "\n",
    "# BsmtExposure\n",
    "map_exp = {'Gd':4,'Av':3,'Mn':2,'No':1,'NA':0}\n",
    "\n",
    "# BsmtFinType1, 2\n",
    "map_btype = {'GLQ':6, 'ALQ':5, 'BLQ':4, 'Rec':3, 'LwQ':2, 'Unf':1, 'NA':0}\n",
    "\n",
    "# Central air\n",
    "map_air = {'Y':1,'N':0}\n",
    "\n",
    "# Functional\n",
    "map_func = {'Typ':0, 'Min1':1, 'Min2':2, 'Mod':3, 'Maj1':4, 'Maj2':5, 'Sev':6, 'Sal':7}\n",
    "\n",
    "# GarageFinish\n",
    "map_garagefin = {'Fin':3,'RFn':2, 'Unf':1, 'NA':0}\n",
    "\n",
    "# PavedDrive\n",
    "map_drive = {'Y':2,'P':1,'N':0}"
   ]
  },
  {
   "cell_type": "code",
   "execution_count": 40,
   "metadata": {},
   "outputs": [],
   "source": [
    "def transform_cat_to_ord(df):\n",
    "    \n",
    "    \"\"\" transforms categories that should be ordinal in nature to numeric values \"\"\"\n",
    "    \n",
    "    df.loc[:,'Street'] = df['Street'].map(map_street)\n",
    "    df.loc[:,'Alley'] = df['Alley'].map(map_alley)\n",
    "    df.loc[:,'Lot Shape'] = df['Lot Shape'].map(map_shape)\n",
    "    df.loc[:,'Land Contour'] = df['Land Contour'].map(map_contour)\n",
    "    df.loc[:,'Utilities'] = df['Utilities'].map(map_util)\n",
    "    df.loc[:,'Land Slope'] = df['Land Slope'].map(map_slope)\n",
    "    df.loc[:,'Exter Qual'] = df['Exter Qual'].map(map_qual)\n",
    "    df.loc[:,'Exter Cond'] = df['Exter Cond'].map(map_qual)\n",
    "    df.loc[:,'Bsmt Qual'] = df['Bsmt Qual'].map(map_qual)\n",
    "    df.loc[:,'Bsmt Cond'] = df['Bsmt Cond'].map(map_qual)\n",
    "    df.loc[:,'Heating QC'] = df['Heating QC'].map(map_qual)\n",
    "    df.loc[:,'Kitchen Qual'] = df['Kitchen Qual'].map(map_qual)\n",
    "    df.loc[:,'Fireplace Qu'] = df['Fireplace Qu'].map(map_qual)\n",
    "    df.loc[:,'Garage Qual'] = df['Garage Qual'].map(map_qual)\n",
    "    df.loc[:,'Garage Cond'] = df['Garage Cond'].map(map_qual)\n",
    "    df.loc[:,'Pool QC'] = df['Pool QC'].map(map_qual)\n",
    "    df.loc[:,'Bsmt Exposure'] = df['Bsmt Exposure'].map(map_exp)\n",
    "    df.loc[:,'BsmtFin Type 1'] = df['BsmtFin Type 1'].map(map_btype)\n",
    "    df.loc[:,'BsmtFin Type 2'] = df['BsmtFin Type 2'].map(map_btype)\n",
    "    df.loc[:,'Central Air'] = df['Central Air'].map(map_air)\n",
    "    df.loc[:,'Functional'] = df['Functional'].map(map_func)\n",
    "    df.loc[:,'Garage Finish'] = df['Garage Finish'].map(map_garagefin)\n",
    "    df.loc[:,'Paved Drive'] = df['Paved Drive'].map(map_drive)\n",
    "    \n",
    "    return df"
   ]
  },
  {
   "cell_type": "code",
   "execution_count": 41,
   "metadata": {},
   "outputs": [],
   "source": [
    "housing_train = transform_cat_to_ord(housing_train)\n",
    "housing_test = transform_cat_to_ord(housing_test)"
   ]
  },
  {
   "cell_type": "markdown",
   "metadata": {},
   "source": [
    "### Numeric to categorical"
   ]
  },
  {
   "cell_type": "code",
   "execution_count": 42,
   "metadata": {},
   "outputs": [],
   "source": [
    "## MSSubclass is saved as a numerical value, but is really a category"
   ]
  },
  {
   "cell_type": "code",
   "execution_count": 43,
   "metadata": {},
   "outputs": [],
   "source": [
    "map_subclass = {20:'A', 30:'B', 40:'C', 45:'D', 50:'E', 60:'F', 70:'G', 75:'H', \n",
    "                80:'I', 85:'J', 90:'K', 120:'L', 150:'M', 160:'N', 180:'O', 190:'P'}"
   ]
  },
  {
   "cell_type": "code",
   "execution_count": 44,
   "metadata": {},
   "outputs": [],
   "source": [
    "def transform_num_to_cat(df):\n",
    "    \n",
    "    \"\"\" transforms numerics that should be categorical in nature to strings \"\"\"\n",
    "    \n",
    "    df.loc[:,'MS SubClass'] = df['MS SubClass'].map(map_subclass)\n",
    "    \n",
    "    return df"
   ]
  },
  {
   "cell_type": "code",
   "execution_count": 45,
   "metadata": {},
   "outputs": [],
   "source": [
    "housing_train = transform_num_to_cat(housing_train)\n",
    "housing_test = transform_num_to_cat(housing_test)"
   ]
  },
  {
   "cell_type": "markdown",
   "metadata": {},
   "source": [
    "## 4. Save clean data"
   ]
  },
  {
   "cell_type": "code",
   "execution_count": 46,
   "metadata": {},
   "outputs": [],
   "source": [
    "housing_train.to_csv('../data/processed/train_clean.csv')\n",
    "housing_test.to_csv('../data/processed/test_clean.csv')"
   ]
  }
 ],
 "metadata": {
  "kernelspec": {
   "display_name": "Python [conda env:dsi]",
   "language": "python",
   "name": "conda-env-dsi-py"
  },
  "language_info": {
   "codemirror_mode": {
    "name": "ipython",
    "version": 3
   },
   "file_extension": ".py",
   "mimetype": "text/x-python",
   "name": "python",
   "nbconvert_exporter": "python",
   "pygments_lexer": "ipython3",
   "version": "3.6.5"
  }
 },
 "nbformat": 4,
 "nbformat_minor": 2
}
